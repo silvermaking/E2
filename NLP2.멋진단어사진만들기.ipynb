{
 "cells": [
  {
   "cell_type": "markdown",
   "metadata": {},
   "source": [
    "# import"
   ]
  },
  {
   "cell_type": "code",
   "execution_count": 1,
   "metadata": {},
   "outputs": [],
   "source": [
    "import os\n",
    "\n",
    "import matplotlib.pyplot as plt\n",
    "import tensorflow as tf\n",
    "import numpy as np\n",
    "from konlpy.tag import Mecab\n",
    "import pandas as pd\n",
    "import sentencepiece as spm\n",
    "from tensorflow import keras\n",
    "import matplotlib.pyplot as plt\n",
    "\n",
    "%matplotlib inline"
   ]
  },
  {
   "cell_type": "markdown",
   "metadata": {},
   "source": [
    "# Data"
   ]
  },
  {
   "cell_type": "code",
   "execution_count": 2,
   "metadata": {},
   "outputs": [],
   "source": [
    "train_data = os.getenv(\"HOME\") + '/aiffel/sentiment_classification/ratings_train.txt'\n",
    "test_data = os.getenv(\"HOME\") + '/aiffel/sentiment_classification/ratings_test.txt'\n",
    "\n",
    "train = pd.read_csv(train_data, sep = '\\t', quoting = 3)\n",
    "test = pd.read_csv(test_data, sep = '\\t', quoting = 3)\n"
   ]
  },
  {
   "cell_type": "code",
   "execution_count": 3,
   "metadata": {},
   "outputs": [
    {
     "name": "stdout",
     "output_type": "stream",
     "text": [
      "(149995, 3)\n",
      "(49997, 3)\n"
     ]
    }
   ],
   "source": [
    "train = train.dropna() #결측값 제거\n",
    "test = test.dropna()\n",
    "\n",
    "print(train.shape)\n",
    "print(test.shape)"
   ]
  },
  {
   "cell_type": "code",
   "execution_count": 4,
   "metadata": {},
   "outputs": [],
   "source": [
    "y_train = train['label']\n",
    "y_test = test['label']"
   ]
  },
  {
   "cell_type": "code",
   "execution_count": 5,
   "metadata": {},
   "outputs": [],
   "source": [
    "with open(train_data, 'w', encoding='utf8') as f:\n",
    "    f.write('\\n'.join(train['document']))\n",
    "\n",
    "\n",
    "with open(train_data, 'r', encoding = 'utf-8') as f:\n",
    "    X_train = f.read().split('\\n')\n",
    "    \n",
    "\n",
    "with open(test_data, 'w', encoding = 'utf-8') as f2:\n",
    "    f2.write('\\n'.join(test['document']))\n",
    "\n",
    "with open(test_data, 'r', encoding = 'utf-8') as f:\n",
    "    X_test = f.read().split('\\n')    "
   ]
  },
  {
   "cell_type": "markdown",
   "metadata": {},
   "source": [
    "# SentencePiece 토큰화"
   ]
  },
  {
   "cell_type": "code",
   "execution_count": 6,
   "metadata": {},
   "outputs": [
    {
     "name": "stdout",
     "output_type": "stream",
     "text": [
      "-rw-r--r-- 1 aiffel aiffel 374677 10월 21 14:50 korean_spm.model\n",
      "-rw-r--r-- 1 aiffel aiffel 144164 10월 21 14:50 korean_spm.vocab\n"
     ]
    }
   ],
   "source": [
    "vocab_size = 8000\n",
    "\n",
    "spm.SentencePieceTrainer.Train(\n",
    "    '--input={} --model_prefix=korean_spm --vocab_size={}'.format(train_data, vocab_size)    \n",
    ")\n",
    "!ls -l korean_spm*"
   ]
  },
  {
   "cell_type": "code",
   "execution_count": 7,
   "metadata": {},
   "outputs": [
    {
     "data": {
      "text/plain": [
       "True"
      ]
     },
     "execution_count": 7,
     "metadata": {},
     "output_type": "execute_result"
    }
   ],
   "source": [
    "sp = spm.SentencePieceProcessor()\n",
    "sp.load('korean_spm.model')"
   ]
  },
  {
   "cell_type": "code",
   "execution_count": 8,
   "metadata": {},
   "outputs": [],
   "source": [
    "def sp_tokenize(sp, corpus):\n",
    "\n",
    "    tensor = []\n",
    "\n",
    "    for sen in corpus:\n",
    "        tensor.append(sp.EncodeAsIds(sen))\n",
    "\n",
    "    with open(\"./korean_spm.vocab\", 'r') as f:\n",
    "        vocab = f.readlines()\n",
    "\n",
    "    word_index = {}\n",
    "    index_word = {}\n",
    "\n",
    "    for idx, line in enumerate(vocab):\n",
    "        word = line.split(\"\\t\")[0]\n",
    "\n",
    "        word_index.update({idx:word})\n",
    "        index_word.update({word:idx})\n",
    "\n",
    "    tensor = tf.keras.preprocessing.sequence.pad_sequences(tensor, padding='post')\n",
    "\n",
    "    return tensor, word_index, index_word"
   ]
  },
  {
   "cell_type": "code",
   "execution_count": 9,
   "metadata": {},
   "outputs": [],
   "source": [
    "train_tensor, train_word_index, train_index_word = sp_tokenize(sp, X_train)\n",
    "test_tensor, test_word_index, test_index_word = sp_tokenize(sp, X_test)"
   ]
  },
  {
   "cell_type": "markdown",
   "metadata": {},
   "source": [
    "# 모델"
   ]
  },
  {
   "cell_type": "code",
   "execution_count": 10,
   "metadata": {},
   "outputs": [],
   "source": [
    "word_vector_dim = 16 #하이퍼파라미터\n",
    "\n",
    "model = keras.Sequential()\n",
    "model.add(keras.layers.Embedding(vocab_size, word_vector_dim, input_shape=(None,)))\n",
    "model.add(keras.layers.LSTM(32, return_sequences = True))\n",
    "model.add(keras.layers.SpatialDropout1D(0.4))\n",
    "model.add(keras.layers.Dense(1, activation='sigmoid'))\n"
   ]
  },
  {
   "cell_type": "code",
   "execution_count": 11,
   "metadata": {},
   "outputs": [
    {
     "name": "stdout",
     "output_type": "stream",
     "text": [
      "Model: \"sequential\"\n",
      "_________________________________________________________________\n",
      "Layer (type)                 Output Shape              Param #   \n",
      "=================================================================\n",
      "embedding (Embedding)        (None, None, 16)          128000    \n",
      "_________________________________________________________________\n",
      "lstm (LSTM)                  (None, None, 32)          6272      \n",
      "_________________________________________________________________\n",
      "spatial_dropout1d (SpatialDr (None, None, 32)          0         \n",
      "_________________________________________________________________\n",
      "dense (Dense)                (None, None, 1)           33        \n",
      "=================================================================\n",
      "Total params: 134,305\n",
      "Trainable params: 134,305\n",
      "Non-trainable params: 0\n",
      "_________________________________________________________________\n"
     ]
    }
   ],
   "source": [
    "model.summary()"
   ]
  },
  {
   "cell_type": "code",
   "execution_count": 12,
   "metadata": {},
   "outputs": [
    {
     "name": "stdout",
     "output_type": "stream",
     "text": [
      "(134995, 134)\n",
      "(134995,)\n"
     ]
    }
   ],
   "source": [
    "#validation set \n",
    "X_val = train_tensor[:15000]   \n",
    "y_val = y_train[:15000]\n",
    "\n",
    "partial_X_train = train_tensor[15000:]  \n",
    "partial_y_train = y_train[15000:]\n",
    "\n",
    "print(partial_X_train.shape)\n",
    "print(partial_y_train.shape)"
   ]
  },
  {
   "cell_type": "markdown",
   "metadata": {},
   "source": [
    "# 모델 학습"
   ]
  },
  {
   "cell_type": "code",
   "execution_count": 13,
   "metadata": {},
   "outputs": [
    {
     "name": "stdout",
     "output_type": "stream",
     "text": [
      "Epoch 1/8\n",
      "264/264 [==============================] - 3s 10ms/step - loss: 0.5263 - accuracy: 0.7283 - val_loss: 0.3902 - val_accuracy: 0.8333\n",
      "Epoch 2/8\n",
      "264/264 [==============================] - 2s 8ms/step - loss: 0.3713 - accuracy: 0.8443 - val_loss: 0.3617 - val_accuracy: 0.8410\n",
      "Epoch 3/8\n",
      "264/264 [==============================] - 2s 8ms/step - loss: 0.3509 - accuracy: 0.8526 - val_loss: 0.3538 - val_accuracy: 0.8423\n",
      "Epoch 4/8\n",
      "264/264 [==============================] - 2s 8ms/step - loss: 0.3402 - accuracy: 0.8568 - val_loss: 0.3552 - val_accuracy: 0.8424\n",
      "Epoch 5/8\n",
      "264/264 [==============================] - 2s 8ms/step - loss: 0.3357 - accuracy: 0.8581 - val_loss: 0.3650 - val_accuracy: 0.8436\n",
      "Epoch 6/8\n",
      "264/264 [==============================] - 2s 9ms/step - loss: 0.3321 - accuracy: 0.8593 - val_loss: 0.3507 - val_accuracy: 0.8436\n",
      "Epoch 7/8\n",
      "264/264 [==============================] - 2s 8ms/step - loss: 0.3286 - accuracy: 0.8612 - val_loss: 0.3498 - val_accuracy: 0.8430\n",
      "Epoch 8/8\n",
      "264/264 [==============================] - 2s 8ms/step - loss: 0.3253 - accuracy: 0.8625 - val_loss: 0.3614 - val_accuracy: 0.8401\n"
     ]
    }
   ],
   "source": [
    "model.compile(optimizer='adam',\n",
    "              loss='binary_crossentropy',\n",
    "              metrics=['accuracy'])\n",
    "              \n",
    "epochs=8 # 몇 epoch를 훈련하면 좋을지 결과를 보면서 바꾸어 봅시다. \n",
    "\n",
    "history = model.fit(partial_X_train,\n",
    "                    partial_y_train,\n",
    "                    epochs=epochs,\n",
    "                    batch_size=512,\n",
    "                    validation_data=(X_val, y_val),\n",
    "                    verbose=1)"
   ]
  },
  {
   "cell_type": "markdown",
   "metadata": {},
   "source": [
    "# 시각화"
   ]
  },
  {
   "cell_type": "code",
   "execution_count": 14,
   "metadata": {},
   "outputs": [
    {
     "name": "stdout",
     "output_type": "stream",
     "text": [
      "dict_keys(['loss', 'accuracy', 'val_loss', 'val_accuracy'])\n"
     ]
    }
   ],
   "source": [
    "history_dict = history.history\n",
    "print(history_dict.keys())"
   ]
  },
  {
   "cell_type": "code",
   "execution_count": 15,
   "metadata": {},
   "outputs": [
    {
     "data": {
      "image/png": "[encoded data removed]",
      "text/plain": [
       "<Figure size 432x288 with 1 Axes>"
      ]
     },
     "metadata": {
      "needs_background": "light"
     },
     "output_type": "display_data"
    }
   ],
   "source": [
    "acc = history_dict['accuracy']\n",
    "val_acc = history_dict['val_accuracy']\n",
    "loss = history_dict['loss']\n",
    "val_loss = history_dict['val_loss']\n",
    "\n",
    "epochs = range(1, len(acc) + 1)\n",
    "\n",
    "# \"bo\"는 \"파란색 점\"입니다\n",
    "plt.plot(epochs, loss, 'bo', label='Training loss')\n",
    "# b는 \"파란 실선\"입니다\n",
    "plt.plot(epochs, val_loss, 'b', label='Validation loss')\n",
    "plt.title('Training and validation loss')\n",
    "plt.xlabel('Epochs')\n",
    "plt.ylabel('Loss')\n",
    "plt.legend()\n",
    "\n",
    "plt.show()\n"
   ]
  },
  {
   "cell_type": "code",
   "execution_count": 16,
   "metadata": {},
   "outputs": [
    {
     "name": "stdout",
     "output_type": "stream",
     "text": [
      "1563/1563 - 3s - loss: 0.3795 - accuracy: 0.8332\n",
      "[0.379489004611969, 0.8332124352455139]\n"
     ]
    }
   ],
   "source": [
    "results = model.evaluate(test_tensor,  y_test, verbose=2)\n",
    "\n",
    "print(results)"
   ]
  },
  {
   "cell_type": "markdown",
   "metadata": {},
   "source": [
    "# Conclusion"
   ]
  },
  {
   "cell_type": "markdown",
   "metadata": {},
   "source": [
    "[Word2Vec와의 비교](https://github.com/silvermaking/Aiffel/blob/master/E9.ipynb)   \n",
    "- "
   ]
  },
  {
   "cell_type": "markdown",
   "metadata": {},
   "source": [
    "정확도는 83%정도로 word2vec정도 나왔다. "
   ]
  },
  {
   "cell_type": "code",
   "execution_count": null,
   "metadata": {},
   "outputs": [],
   "source": []
  }
 ],
 "metadata": {
  "kernelspec": {
   "display_name": "aiffel",
   "language": "python",
   "name": "aiffel"
  },
  "language_info": {
   "codemirror_mode": {
    "name": "ipython",
    "version": 3
   },
   "file_extension": ".py",
   "mimetype": "text/x-python",
   "name": "python",
   "nbconvert_exporter": "python",
   "pygments_lexer": "ipython3",
   "version": "3.7.6"
  }
 },
 "nbformat": 4,
 "nbformat_minor": 4
}
